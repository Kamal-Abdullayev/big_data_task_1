{
 "cells": [
  {
   "cell_type": "code",
   "execution_count": 1,
   "id": "094b2d46-9720-460a-a9ee-5988bd3326d5",
   "metadata": {},
   "outputs": [],
   "source": [
    "from pyspark.sql import SparkSession\n",
    "from pyspark.sql import SparkSession\n",
    "from pyspark.sql.functions import col, unix_timestamp, udf, lag, sum as spark_sum\n",
    "from pyspark.sql.window import Window\n",
    "from pyspark.sql.types import StringType, DoubleType\n",
    "from shapely.geometry import Point, shape\n",
    "import json\n",
    "\n",
    "spark = (SparkSession.builder\n",
    "                    .appName('NewYorkCityTaxiData')\n",
    "                    .getOrCreate()\n",
    "        )"
   ]
  },
  {
   "cell_type": "code",
   "execution_count": 2,
   "id": "7164c089-d4c1-4d27-81f0-c4202a4356a3",
   "metadata": {},
   "outputs": [
    {
     "data": {
      "text/html": [
       "\n",
       "            <div>\n",
       "                <p><b>SparkSession - in-memory</b></p>\n",
       "                \n",
       "        <div>\n",
       "            <p><b>SparkContext</b></p>\n",
       "\n",
       "            <p><a href=\"http://a5e08e691cf7:4040\">Spark UI</a></p>\n",
       "\n",
       "            <dl>\n",
       "              <dt>Version</dt>\n",
       "                <dd><code>v3.5.3</code></dd>\n",
       "              <dt>Master</dt>\n",
       "                <dd><code>local[*]</code></dd>\n",
       "              <dt>AppName</dt>\n",
       "                <dd><code>NewYorkCityTaxiData</code></dd>\n",
       "            </dl>\n",
       "        </div>\n",
       "        \n",
       "            </div>\n",
       "        "
      ],
      "text/plain": [
       "<pyspark.sql.session.SparkSession at 0x7f5520596b90>"
      ]
     },
     "execution_count": 2,
     "metadata": {},
     "output_type": "execute_result"
    }
   ],
   "source": [
    "spark"
   ]
  },
  {
   "cell_type": "code",
   "execution_count": 15,
   "id": "064b064b-01ad-4c5e-ac97-4cc0022fe640",
   "metadata": {},
   "outputs": [
    {
     "name": "stdout",
     "output_type": "stream",
     "text": [
      "+--------------------+--------------------+---------+---------+------------------+---------------+----------------+---------------+----------------+---------------+-----------------+----------------+\n",
      "|           medallion|        hack_license|vendor_id|rate_code|store_and_fwd_flag|pickup_datetime|dropoff_datetime|passenger_count|pickup_longitude|pickup_latitude|dropoff_longitude|dropoff_latitude|\n",
      "+--------------------+--------------------+---------+---------+------------------+---------------+----------------+---------------+----------------+---------------+-----------------+----------------+\n",
      "|89D227B655E5C82AE...|BA96DE419E711691B...|      CMT|        1|                 N| 01-01-13 15:11|  01-01-13 15:18|              4|      -73.978165|      40.757977|       -73.989838|       40.751171|\n",
      "|0BD7C8F5BA12B88E0...|9FD8F69F0804BDB55...|      CMT|        1|                 N| 06-01-13 00:18|  06-01-13 00:22|              1|      -74.006683|      40.731781|       -73.994499|        40.75066|\n",
      "|0BD7C8F5BA12B88E0...|9FD8F69F0804BDB55...|      CMT|        1|                 N| 05-01-13 18:49|  05-01-13 18:54|              1|      -74.004707|       40.73777|       -74.009834|       40.726002|\n",
      "|DFD2202EE08F7A8DC...|51EE87E3205C985EF...|      CMT|        1|                 N| 07-01-13 23:54|  07-01-13 23:58|              2|      -73.974602|      40.759945|       -73.984734|       40.759388|\n",
      "|DFD2202EE08F7A8DC...|51EE87E3205C985EF...|      CMT|        1|                 N| 07-01-13 23:25|  07-01-13 23:34|              1|       -73.97625|      40.748528|       -74.002586|       40.747868|\n",
      "|20D9ECB2CA0767CF7...|598CCE5B9C1918568...|      CMT|        1|                 N| 07-01-13 15:27|  07-01-13 15:38|              1|      -73.966743|      40.764252|       -73.983322|       40.743763|\n",
      "|496644932DF393260...|513189AD756FF14FE...|      CMT|        1|                 N| 08-01-13 11:01|  08-01-13 11:08|              1|      -73.995804|      40.743977|       -74.007416|       40.744343|\n",
      "|0B57B9633A2FECD3D...|CCD4367B417ED6634...|      CMT|        1|                 N| 07-01-13 12:39|  07-01-13 13:10|              3|      -73.989937|      40.756775|        -73.86525|        40.77063|\n",
      "|2C0E91FF20A856C89...|1DA2F6543A62B8ED9...|      CMT|        1|                 N| 07-01-13 18:15|  07-01-13 18:20|              1|      -73.980072|      40.743137|       -73.982712|       40.735336|\n",
      "|2D4B95E2FA7B2E851...|CD2F522EEE1FF5F5A...|      CMT|        1|                 N| 07-01-13 15:33|  07-01-13 15:49|              2|      -73.977936|      40.786983|       -73.952919|        40.80637|\n",
      "|E12F6AF991172EAC3...|06918214E951FA000...|      CMT|        1|                 N| 08-01-13 13:11|  08-01-13 13:19|              1|      -73.982452|      40.773167|       -73.964134|       40.773815|\n",
      "|E12F6AF991172EAC3...|06918214E951FA000...|      CMT|        1|                 N| 08-01-13 09:50|  08-01-13 10:02|              1|       -73.99556|      40.749294|       -73.988686|       40.759052|\n",
      "|78FFD9CD0CDA541F3...|E949C583ECF62C8F0...|      CMT|        1|                 N| 10-01-13 12:07|  10-01-13 12:17|              1|      -73.971497|      40.791321|       -73.964478|       40.775921|\n",
      "|237F49C3ECC11F502...|93C363DDF8ED9385D...|      CMT|        1|                 N| 07-01-13 07:35|  07-01-13 07:46|              1|       -73.98851|      40.774307|       -73.981094|       40.755325|\n",
      "|3349F919AA8AE5DC9...|7CE849FEF67514F08...|      CMT|        1|                 N| 10-01-13 15:42|  10-01-13 16:04|              1|      -73.994911|      40.723221|       -73.971558|       40.761612|\n",
      "|3349F919AA8AE5DC9...|7CE849FEF67514F08...|      CMT|        1|                 N| 10-01-13 14:27|  10-01-13 14:45|              1|      -74.010391|      40.708702|       -73.987846|       40.756104|\n",
      "|4C005EEBAA7BF26B8...|351BE7D984BE17DB2...|      CMT|        1|                 N| 07-01-13 22:09|  07-01-13 22:19|              1|      -73.973732|      40.756287|       -73.998413|       40.756832|\n",
      "|7D99C30FCE69B1A9D...|460C3F57DD9CB2265...|      CMT|        1|                 N| 07-01-13 17:18|  07-01-13 17:20|              1|      -73.968925|      40.767704|        -73.96199|       40.776566|\n",
      "|E6FBF80668FE0611A...|36773E80775F26CD1...|      CMT|        1|                 N| 07-01-13 06:08|  07-01-13 06:13|              1|       -73.96212|      40.769737|       -73.979561|        40.75539|\n",
      "|0C5296F3C8B16E702...|D2363240A9295EF57...|      CMT|        1|                 N| 07-01-13 22:25|  07-01-13 22:36|              1|      -73.989708|      40.756714|       -73.977615|       40.787575|\n",
      "+--------------------+--------------------+---------+---------+------------------+---------------+----------------+---------------+----------------+---------------+-----------------+----------------+\n",
      "only showing top 20 rows\n",
      "\n"
     ]
    }
   ],
   "source": [
    "nyc_taxi_data = spark.read.option(\"header\", \"true\").csv(\"input/Sample NYC Data.csv\")\n",
    "\n",
    "nyc_taxi_data.show()"
   ]
  },
  {
   "cell_type": "code",
   "execution_count": 5,
   "id": "c5a3fc52-8b1f-421f-b27f-3ee62bf4b196",
   "metadata": {},
   "outputs": [],
   "source": [
    "nyc_taxi_data = nyc_taxi_data.withColumn(\"pickup_longitude\", col(\"pickup_longitude\").cast(DoubleType()))\n",
    "nyc_taxi_data = nyc_taxi_data.withColumn(\"pickup_latitude\", col(\"pickup_latitude\").cast(DoubleType()))\n",
    "nyc_taxi_data = nyc_taxi_data.withColumn(\"dropoff_longitude\", col(\"dropoff_longitude\").cast(DoubleType()))\n",
    "nyc_taxi_data = nyc_taxi_data.withColumn(\"dropoff_latitude\", col(\"dropoff_latitude\").cast(DoubleType()))\n"
   ]
  },
  {
   "cell_type": "code",
   "execution_count": 24,
   "id": "c0d84ccc-99f2-4058-bb29-188442b69b1e",
   "metadata": {},
   "outputs": [],
   "source": [
    "# Load Borough GeoJSON Data\n",
    "with open(\"input/nyc-boroughs.geojson\") as f:\n",
    "    geojson_data = json.load(f)\n",
    "    # for feature in geojson_data[\"features\"]:\n",
    "    #     print(feature[\"properties\"][\"borough\"])\n",
    "\n",
    "# Broadcast GeoJSON Data\n",
    "geo_broadcast = spark.sparkContext.broadcast(geojson_data)"
   ]
  },
  {
   "cell_type": "code",
   "execution_count": 6,
   "id": "9e6ba749-9370-4f4a-9f29-4bbd7d53a091",
   "metadata": {},
   "outputs": [],
   "source": [
    "def get_borough(lon, lat):\n",
    "    if lon is None or lat is None:\n",
    "        return None\n",
    "    point = Point(lon, lat)\n",
    "    for feature in geo_broadcast.value[\"features\"]:\n",
    "        polygon = shape(feature[\"geometry\"])\n",
    "        if polygon.contains(point):\n",
    "            return feature[\"properties\"][\"borough\"]\n",
    "    return \"Unknown\"\n",
    "\n",
    "borough_udf = udf(get_borough, StringType())\n"
   ]
  },
  {
   "cell_type": "code",
   "execution_count": 7,
   "id": "4678e731-9432-4e1e-8113-e441b502f1a7",
   "metadata": {},
   "outputs": [],
   "source": [
    "nyc_taxi_data = nyc_taxi_data.withColumn(\"pickup_borough\", borough_udf(\"pickup_longitude\", \"pickup_latitude\"))\n",
    "nyc_taxi_data = nyc_taxi_data.withColumn(\"dropoff_borough\", borough_udf(\"dropoff_longitude\", \"dropoff_latitude\"))\n"
   ]
  },
  {
   "cell_type": "code",
   "execution_count": 8,
   "id": "9f390279-7d42-47d2-8b21-21132837853b",
   "metadata": {},
   "outputs": [],
   "source": [
    "# Convert Datetime Columns\n",
    "nyc_taxi_data = nyc_taxi_data.withColumn(\"pickup_ts\", unix_timestamp(col(\"pickup_datetime\"), \"dd-MM-yy HH:mm\"))\n",
    "nyc_taxi_data = nyc_taxi_data.withColumn(\"dropoff_ts\", unix_timestamp(col(\"dropoff_datetime\"), \"dd-MM-yy HH:mm\"))\n",
    "\n",
    "# Calculate Trip Duration\n",
    "nyc_taxi_data = nyc_taxi_data.withColumn(\"duration\", col(\"dropoff_ts\") - col(\"pickup_ts\"))\n",
    "\n",
    "# Filter Negative & Unrealistic Trips (more than 4 hours)\n",
    "nyc_taxi_data = nyc_taxi_data.filter((col(\"duration\") > 0) & (col(\"duration\") <= 4 * 3600))\n"
   ]
  },
  {
   "cell_type": "code",
   "execution_count": null,
   "id": "d1775ffa-cb4a-4e66-9c45-2fee38cca428",
   "metadata": {},
   "outputs": [
    {
     "name": "stdout",
     "output_type": "stream",
     "text": [
      "Utilization per Taxi:\n"
     ]
    }
   ],
   "source": [
    "# Window to Partition by Taxi ID and Order by Pickup Time\n",
    "window_spec = Window.partitionBy(\"medallion\").orderBy(\"pickup_ts\")\n",
    "\n",
    "# Previous Dropoff Time\n",
    "nyc_taxi_data = nyc_taxi_data.withColumn(\"previous_dropoff\", lag(\"dropoff_ts\").over(window_spec))\n",
    "\n",
    "# Idle Time Calculation\n",
    "nyc_taxi_data = nyc_taxi_data.withColumn(\"idle_time\", col(\"pickup_ts\") - col(\"previous_dropoff\"))\n",
    "\n",
    "# Filter Outliers (Idle Time <= 4 hours)\n",
    "nyc_taxi_data = nyc_taxi_data.filter((col(\"idle_time\") > 0) & (col(\"idle_time\") <= 4 * 3600))\n",
    "\n",
    "# Aggregate Utilization\n",
    "utilization_df = nyc_taxi_data.groupBy(\"medallion\").agg(\n",
    "    spark_sum(\"duration\").alias(\"total_trip_time\"),\n",
    "    spark_sum(\"idle_time\").alias(\"total_idle_time\")\n",
    ")\n",
    "\n",
    "# Utilization Formula\n",
    "utilization_df = utilization_df.withColumn(\"utilization\", col(\"total_trip_time\") / (col(\"total_trip_time\") + col(\"total_idle_time\")))\n",
    "\n",
    "print(\"Utilization per Taxi:\")\n",
    "utilization_df.show(truncate=False)"
   ]
  },
  {
   "cell_type": "code",
   "execution_count": null,
   "id": "48ca69f8-4c3e-460b-a328-a7a511ab7eb1",
   "metadata": {},
   "outputs": [],
   "source": [
    "# Search Time Calculation\n",
    "nyc_taxi_data = nyc_taxi_data.withColumn(\"search_time\", col(\"pickup_ts\") - col(\"previous_dropoff\"))\n",
    "\n",
    "# Average Search Time per Borough\n",
    "avg_search_df = nyc_taxi_data.groupBy(\"dropoff_borough\").agg({\"search_time\": \"avg\"}) \\\n",
    "    .withColumnRenamed(\"avg(search_time)\", \"avg_search_time\")\n",
    "\n",
    "print(\"Average Search Time per Borough:\")\n",
    "avg_search_df.show(truncate=False).take(10)"
   ]
  },
  {
   "cell_type": "code",
   "execution_count": null,
   "id": "33944f74-e8d9-4a42-83fb-979f5b4e553f",
   "metadata": {},
   "outputs": [],
   "source": [
    "# Same Borough Trips\n",
    "same_borough_df = nyc_taxi_data.filter(col(\"pickup_borough\") == col(\"dropoff_borough\")) \\\n",
    "    .groupBy(\"pickup_borough\").count() \\\n",
    "    .withColumnRenamed(\"count\", \"same_borough_trips\")\n",
    "\n",
    "print(\"Same Borough Trips:\")\n",
    "same_borough_df.show(truncate=False)\n",
    "\n"
   ]
  },
  {
   "cell_type": "code",
   "execution_count": null,
   "id": "fc8596fa-e0fd-4cb4-a8f5-27dc7a458af8",
   "metadata": {},
   "outputs": [],
   "source": [
    "# Different Borough Trips\n",
    "diff_borough_df = nyc_taxi_data.filter(col(\"pickup_borough\") != col(\"dropoff_borough\")) \\\n",
    "    .groupBy(\"pickup_borough\", \"dropoff_borough\").count() \\\n",
    "    .withColumnRenamed(\"count\", \"different_borough_trips\")\n",
    "\n",
    "print(\"Different Borough Trips:\")\n",
    "diff_borough_df.show(truncate=False)"
   ]
  }
 ],
 "metadata": {
  "kernelspec": {
   "display_name": "Python 3 (ipykernel)",
   "language": "python",
   "name": "python3"
  },
  "language_info": {
   "codemirror_mode": {
    "name": "ipython",
    "version": 3
   },
   "file_extension": ".py",
   "mimetype": "text/x-python",
   "name": "python",
   "nbconvert_exporter": "python",
   "pygments_lexer": "ipython3",
   "version": "3.11.10"
  }
 },
 "nbformat": 4,
 "nbformat_minor": 5
}
